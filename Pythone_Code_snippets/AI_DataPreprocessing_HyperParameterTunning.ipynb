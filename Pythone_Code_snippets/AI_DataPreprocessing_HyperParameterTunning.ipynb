{
 "cells": [
  {
   "cell_type": "markdown",
   "id": "SmrS15DGSU8v",
   "metadata": {
    "id": "SmrS15DGSU8v"
   },
   "source": [
    "# Data Preprocessing and AI Model Selection\n",
    "\n",
    "This notebook demonstrates preprocessing and model selection on two datasets:\n",
    "- **Regression**: California Housing dataset with introduced missing values\n",
    "- **Classification**: Titanic dataset\n",
    "\n",
    "Key tasks covered:\n",
    "- Data Cleaning\n",
    "- Handling Missing Values\n",
    "- Encoding Categorical Variables\n",
    "- Feature Selection\n",
    "- Model Selection and Evaluation\n",
    "- Hyperparameter Tuning using `GridSearchCV` and `RandomizedSearchCV`\n"
   ]
  },
  {
   "cell_type": "code",
   "execution_count": 1,
   "id": "a71c1be9-3921-473a-9b46-7e3576b5cb6e",
   "metadata": {
    "executionInfo": {
     "elapsed": 5131,
     "status": "ok",
     "timestamp": 1753509117372,
     "user": {
      "displayName": "Faisal Hussain",
      "userId": "00585954853406504390"
     },
     "user_tz": -300
    },
    "id": "39v7VkuNSU9C"
   },
   "outputs": [],
   "source": [
    "import pandas as pd\n",
    "import numpy as np\n",
    "import seaborn as sns\n",
    "import matplotlib.pyplot as plt\n",
    "\n",
    "from sklearn.datasets import fetch_california_housing\n",
    "from sklearn.model_selection import train_test_split, GridSearchCV, RandomizedSearchCV, cross_val_score\n",
    "from sklearn.preprocessing import StandardScaler\n",
    "from sklearn.impute import SimpleImputer\n",
    "from sklearn.feature_selection import SelectKBest, f_regression, f_classif\n",
    "from sklearn.linear_model import LinearRegression, LogisticRegression\n",
    "from sklearn.ensemble import RandomForestRegressor, RandomForestClassifier\n",
    "from sklearn.tree import DecisionTreeClassifier\n",
    "from sklearn.svm import SVR, SVC\n",
    "from sklearn.metrics import mean_squared_error, r2_score, accuracy_score, classification_report\n",
    "\n",
    "import warnings\n",
    "warnings.filterwarnings('ignore')"
   ]
  },
  {
   "cell_type": "markdown",
   "id": "2h4l6yifSU9H",
   "metadata": {
    "id": "2h4l6yifSU9H"
   },
   "source": [
    "## Regression Task: California Housing Dataset with Missing Values"
   ]
  },
  {
   "cell_type": "code",
   "execution_count": 2,
   "id": "I30PCr_4SU9K",
   "metadata": {
    "colab": {
     "base_uri": "https://localhost:8080/"
    },
    "executionInfo": {
     "elapsed": 1805,
     "status": "ok",
     "timestamp": 1753509119125,
     "user": {
      "displayName": "Faisal Hussain",
      "userId": "00585954853406504390"
     },
     "user_tz": -300
    },
    "id": "I30PCr_4SU9K",
    "outputId": "6a37b1d4-4a58-499e-aa81-e18e339ef373"
   },
   "outputs": [
    {
     "name": "stdout",
     "output_type": "stream",
     "text": [
      "MedInc         2064\n",
      "HouseAge       2064\n",
      "AveRooms       2064\n",
      "AveBedrms      2064\n",
      "Population     2064\n",
      "AveOccup       2064\n",
      "Latitude       2064\n",
      "Longitude      2064\n",
      "MedHouseVal    2064\n",
      "dtype: int64\n"
     ]
    }
   ],
   "source": [
    "from sklearn.utils import shuffle\n",
    "\n",
    "data = fetch_california_housing(as_frame=True)\n",
    "df_california = data.frame\n",
    "df_california = shuffle(df_california, random_state=42)\n",
    "\n",
    "# Introduce missing values (10% in each column)\n",
    "for col in df_california.columns:\n",
    "    df_california.loc[df_california.sample(frac=0.1, random_state=42).index, col] = np.nan\n",
    "\n",
    "print(df_california.isnull().sum())"
   ]
  },
  {
   "cell_type": "code",
   "execution_count": 3,
   "id": "Xrjuc9IxSU9L",
   "metadata": {
    "executionInfo": {
     "elapsed": 50,
     "status": "ok",
     "timestamp": 1753509119180,
     "user": {
      "displayName": "Faisal Hussain",
      "userId": "00585954853406504390"
     },
     "user_tz": -300
    },
    "id": "Xrjuc9IxSU9L"
   },
   "outputs": [],
   "source": [
    "X = df_california.drop(\"MedHouseVal\", axis=1)\n",
    "y = df_california[\"MedHouseVal\"]\n",
    "\n",
    "imputer = SimpleImputer(strategy='mean')\n",
    "X_imputed = pd.DataFrame(imputer.fit_transform(X), columns=X.columns)\n",
    "\n",
    "X_train, X_test, y_train, y_test = train_test_split(X_imputed, y, test_size=0.2, random_state=42)\n",
    "scaler = StandardScaler()\n",
    "X_train_scaled = scaler.fit_transform(X_train)\n",
    "X_test_scaled = scaler.transform(X_test)"
   ]
  },
  {
   "cell_type": "code",
   "execution_count": 4,
   "id": "3KXYklYlSU9M",
   "metadata": {
    "colab": {
     "base_uri": "https://localhost:8080/"
    },
    "executionInfo": {
     "elapsed": 442730,
     "status": "ok",
     "timestamp": 1753509561944,
     "user": {
      "displayName": "Faisal Hussain",
      "userId": "00585954853406504390"
     },
     "user_tz": -300
    },
    "id": "3KXYklYlSU9M",
    "outputId": "9ffa4aa5-d77d-4e11-e6ed-0c5e00627e89"
   },
   "outputs": [
    {
     "name": "stdout",
     "output_type": "stream",
     "text": [
      "Best Params: {'max_depth': None, 'min_samples_split': 2, 'n_estimators': 100}\n",
      "Best R2 Score: 0.8038929029979307\n"
     ]
    }
   ],
   "source": [
    "param_grid = {\n",
    "    'n_estimators': [50, 100],\n",
    "    'max_depth': [10, 20, None],\n",
    "    'min_samples_split': [2, 5],\n",
    "}\n",
    "rf = RandomForestRegressor(random_state=42)\n",
    "grid = GridSearchCV(rf, param_grid, cv=5, scoring='r2', n_jobs=-1)\n",
    "grid.fit(X_train_scaled, y_train)\n",
    "\n",
    "print(\"Best Params:\", grid.best_params_)\n",
    "print(\"Best R2 Score:\", grid.best_score_)"
   ]
  },
  {
   "cell_type": "code",
   "execution_count": 5,
   "id": "UiG5SNLySU9O",
   "metadata": {
    "colab": {
     "base_uri": "https://localhost:8080/"
    },
    "executionInfo": {
     "elapsed": 127340,
     "status": "ok",
     "timestamp": 1753509689270,
     "user": {
      "displayName": "Faisal Hussain",
      "userId": "00585954853406504390"
     },
     "user_tz": -300
    },
    "id": "UiG5SNLySU9O",
    "outputId": "a76cf9a9-d45e-40be-cd49-5c381d79eb34"
   },
   "outputs": [
    {
     "name": "stdout",
     "output_type": "stream",
     "text": [
      "LinearRegression R2 Avg: 0.6023\n",
      "SVR R2 Avg: 0.7292\n",
      "RandomForest R2 Avg: 0.8028\n"
     ]
    }
   ],
   "source": [
    "models = {\n",
    "    'LinearRegression': LinearRegression(),\n",
    "    'SVR': SVR(),\n",
    "    'RandomForest': RandomForestRegressor(**grid.best_params_)\n",
    "}\n",
    "\n",
    "for name, model in models.items():\n",
    "    scores = cross_val_score(model, X_train_scaled, y_train, cv=5, scoring='r2')\n",
    "    print(f\"{name} R2 Avg: {scores.mean():.4f}\")"
   ]
  },
  {
   "cell_type": "markdown",
   "id": "9cpRKO95SU9P",
   "metadata": {
    "id": "9cpRKO95SU9P"
   },
   "source": [
    "## Classification Task: Titanic Dataset"
   ]
  },
  {
   "cell_type": "code",
   "execution_count": 6,
   "id": "WKifybypSU9R",
   "metadata": {
    "executionInfo": {
     "elapsed": 136,
     "status": "ok",
     "timestamp": 1753509689395,
     "user": {
      "displayName": "Faisal Hussain",
      "userId": "00585954853406504390"
     },
     "user_tz": -300
    },
    "id": "WKifybypSU9R"
   },
   "outputs": [],
   "source": [
    "df_titanic = sns.load_dataset('titanic')\n",
    "df_titanic.drop(['deck', 'embark_town', 'alive', 'who', 'class'], axis=1, inplace=True)\n",
    "df_titanic['age'].fillna(df_titanic['age'].median(), inplace=True)\n",
    "df_titanic['embarked'].fillna(df_titanic['embarked'].mode()[0], inplace=True)\n",
    "df_titanic.dropna(inplace=True)\n",
    "\n",
    "df_titanic = pd.get_dummies(df_titanic, columns=['sex', 'embarked'], drop_first=True)\n",
    "X = df_titanic.drop('survived', axis=1)\n",
    "y = df_titanic['survived']\n",
    "\n",
    "X_train, X_test, y_train, y_test = train_test_split(X, y, test_size=0.2, random_state=42)\n",
    "X_train_scaled = scaler.fit_transform(X_train)\n",
    "X_test_scaled = scaler.transform(X_test)"
   ]
  },
  {
   "cell_type": "code",
   "execution_count": 7,
   "id": "E9iDBbO1SU9S",
   "metadata": {
    "colab": {
     "base_uri": "https://localhost:8080/"
    },
    "executionInfo": {
     "elapsed": 217,
     "status": "ok",
     "timestamp": 1753509689580,
     "user": {
      "displayName": "Faisal Hussain",
      "userId": "00585954853406504390"
     },
     "user_tz": -300
    },
    "id": "E9iDBbO1SU9S",
    "outputId": "bb7c4ec9-f9b5-4989-89ae-40caae5174f4"
   },
   "outputs": [
    {
     "name": "stdout",
     "output_type": "stream",
     "text": [
      "Best Params (LR): {'C': 1, 'penalty': 'l2', 'solver': 'lbfgs'}\n",
      "Best CV Accuracy (LR): 0.8201910765291046\n"
     ]
    }
   ],
   "source": [
    "param_grid_lr = {\n",
    "    'C': [0.1, 1, 10],\n",
    "    'penalty': ['l2'],\n",
    "    'solver': ['lbfgs', 'liblinear']\n",
    "}\n",
    "lr = LogisticRegression(max_iter=1000)\n",
    "grid_lr = GridSearchCV(lr, param_grid_lr, cv=5, scoring='accuracy')\n",
    "grid_lr.fit(X_train_scaled, y_train)\n",
    "\n",
    "print(\"Best Params (LR):\", grid_lr.best_params_)\n",
    "print(\"Best CV Accuracy (LR):\", grid_lr.best_score_)"
   ]
  },
  {
   "cell_type": "code",
   "execution_count": 8,
   "id": "gk6_aSrJSU9T",
   "metadata": {
    "colab": {
     "base_uri": "https://localhost:8080/"
    },
    "executionInfo": {
     "elapsed": 10763,
     "status": "ok",
     "timestamp": 1753509700346,
     "user": {
      "displayName": "Faisal Hussain",
      "userId": "00585954853406504390"
     },
     "user_tz": -300
    },
    "id": "gk6_aSrJSU9T",
    "outputId": "be6aa073-1c59-4b8a-b875-f94a486643cd"
   },
   "outputs": [
    {
     "name": "stdout",
     "output_type": "stream",
     "text": [
      "Best Params (RF): {'n_estimators': 150, 'min_samples_split': 4, 'max_depth': 5, 'bootstrap': True}\n",
      "Best CV Accuracy (RF): 0.8328277356446371\n"
     ]
    }
   ],
   "source": [
    "param_dist_rf = {\n",
    "    'n_estimators': [50, 100, 150],\n",
    "    'max_depth': [5, 10, None],\n",
    "    'min_samples_split': [2, 4, 6],\n",
    "    'bootstrap': [True, False]\n",
    "}\n",
    "rf = RandomForestClassifier()\n",
    "rand_rf = RandomizedSearchCV(rf, param_distributions=param_dist_rf, n_iter=10, scoring='accuracy', cv=5, random_state=42)\n",
    "rand_rf.fit(X_train_scaled, y_train)\n",
    "\n",
    "print(\"Best Params (RF):\", rand_rf.best_params_)\n",
    "print(\"Best CV Accuracy (RF):\", rand_rf.best_score_)"
   ]
  },
  {
   "cell_type": "code",
   "execution_count": 9,
   "id": "5tBGEPCVSU9U",
   "metadata": {
    "colab": {
     "base_uri": "https://localhost:8080/"
    },
    "executionInfo": {
     "elapsed": 398,
     "status": "ok",
     "timestamp": 1753509700771,
     "user": {
      "displayName": "Faisal Hussain",
      "userId": "00585954853406504390"
     },
     "user_tz": -300
    },
    "id": "5tBGEPCVSU9U",
    "outputId": "988518c6-c6bf-474e-84c4-8876678c1be0"
   },
   "outputs": [
    {
     "name": "stdout",
     "output_type": "stream",
     "text": [
      "\n",
      "BestLogistic Evaluation:\n",
      "Accuracy: 0.8156424581005587\n",
      "              precision    recall  f1-score   support\n",
      "\n",
      "           0       0.83      0.87      0.85       105\n",
      "           1       0.80      0.74      0.77        74\n",
      "\n",
      "    accuracy                           0.82       179\n",
      "   macro avg       0.81      0.80      0.81       179\n",
      "weighted avg       0.81      0.82      0.81       179\n",
      "\n",
      "\n",
      "BestRandomForest Evaluation:\n",
      "Accuracy: 0.8100558659217877\n",
      "              precision    recall  f1-score   support\n",
      "\n",
      "           0       0.81      0.88      0.84       105\n",
      "           1       0.80      0.72      0.76        74\n",
      "\n",
      "    accuracy                           0.81       179\n",
      "   macro avg       0.81      0.80      0.80       179\n",
      "weighted avg       0.81      0.81      0.81       179\n",
      "\n",
      "\n",
      "SVC Evaluation:\n",
      "Accuracy: 0.8156424581005587\n",
      "              precision    recall  f1-score   support\n",
      "\n",
      "           0       0.82      0.89      0.85       105\n",
      "           1       0.82      0.72      0.76        74\n",
      "\n",
      "    accuracy                           0.82       179\n",
      "   macro avg       0.82      0.80      0.81       179\n",
      "weighted avg       0.82      0.82      0.81       179\n",
      "\n"
     ]
    }
   ],
   "source": [
    "models = {\n",
    "    'BestLogistic': grid_lr.best_estimator_,\n",
    "    'BestRandomForest': rand_rf.best_estimator_,\n",
    "    'SVC': SVC()\n",
    "}\n",
    "\n",
    "for name, model in models.items():\n",
    "    model.fit(X_train_scaled, y_train)\n",
    "    y_pred = model.predict(X_test_scaled)\n",
    "    print(f\"\\n{name} Evaluation:\")\n",
    "    print(\"Accuracy:\", accuracy_score(y_test, y_pred))\n",
    "    print(classification_report(y_test, y_pred))"
   ]
  },
  {
   "cell_type": "code",
   "execution_count": null,
   "id": "a2ea2b6b-6a34-4a70-b575-92a18007148c",
   "metadata": {},
   "outputs": [],
   "source": []
  }
 ],
 "metadata": {
  "colab": {
   "provenance": []
  },
  "kernelspec": {
   "display_name": "Python [conda env:base] *",
   "language": "python",
   "name": "conda-base-py"
  },
  "language_info": {
   "codemirror_mode": {
    "name": "ipython",
    "version": 3
   },
   "file_extension": ".py",
   "mimetype": "text/x-python",
   "name": "python",
   "nbconvert_exporter": "python",
   "pygments_lexer": "ipython3",
   "version": "3.13.5"
  }
 },
 "nbformat": 4,
 "nbformat_minor": 5
}
